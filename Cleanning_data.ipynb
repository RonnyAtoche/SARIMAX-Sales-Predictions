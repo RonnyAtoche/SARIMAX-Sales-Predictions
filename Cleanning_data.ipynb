{
 "cells": [
  {
   "cell_type": "code",
   "execution_count": 1,
   "metadata": {},
   "outputs": [],
   "source": [
    "import pandas as pd\n",
    "import os\n",
    "import numpy as np\n",
    "import matplotlib.pyplot as plt"
   ]
  },
  {
   "cell_type": "code",
   "execution_count": 2,
   "metadata": {},
   "outputs": [
    {
     "data": {
      "text/plain": [
       "'/Users/mac/Desktop/OrderPredictions'"
      ]
     },
     "execution_count": 2,
     "metadata": {},
     "output_type": "execute_result"
    }
   ],
   "source": [
    "pwd"
   ]
  },
  {
   "cell_type": "code",
   "execution_count": 3,
   "metadata": {},
   "outputs": [
    {
     "data": {
      "text/html": [
       "<div>\n",
       "<style scoped>\n",
       "    .dataframe tbody tr th:only-of-type {\n",
       "        vertical-align: middle;\n",
       "    }\n",
       "\n",
       "    .dataframe tbody tr th {\n",
       "        vertical-align: top;\n",
       "    }\n",
       "\n",
       "    .dataframe thead th {\n",
       "        text-align: right;\n",
       "    }\n",
       "</style>\n",
       "<table border=\"1\" class=\"dataframe\">\n",
       "  <thead>\n",
       "    <tr style=\"text-align: right;\">\n",
       "      <th></th>\n",
       "      <th>LKP_SOLD_TO_CUST</th>\n",
       "      <th>LKP_ARTIKEL</th>\n",
       "      <th>ORDER_NUMMER</th>\n",
       "      <th>BIJDRAGE</th>\n",
       "      <th>NETTO_GEWICHT_KG</th>\n",
       "      <th>FACTUUR_DATUM</th>\n",
       "      <th>R1_GEVAL</th>\n",
       "    </tr>\n",
       "  </thead>\n",
       "  <tbody>\n",
       "    <tr>\n",
       "      <th>0</th>\n",
       "      <td>130603</td>\n",
       "      <td>100017</td>\n",
       "      <td>591194</td>\n",
       "      <td>9.6204</td>\n",
       "      <td>12.0</td>\n",
       "      <td>11-06-2019</td>\n",
       "      <td>1</td>\n",
       "    </tr>\n",
       "    <tr>\n",
       "      <th>1</th>\n",
       "      <td>130575</td>\n",
       "      <td>100017</td>\n",
       "      <td>573012</td>\n",
       "      <td>70.0780</td>\n",
       "      <td>84.0</td>\n",
       "      <td>12-12-2018</td>\n",
       "      <td>0</td>\n",
       "    </tr>\n",
       "    <tr>\n",
       "      <th>2</th>\n",
       "      <td>130603</td>\n",
       "      <td>100017</td>\n",
       "      <td>573038</td>\n",
       "      <td>18.6336</td>\n",
       "      <td>24.0</td>\n",
       "      <td>12-12-2018</td>\n",
       "      <td>0</td>\n",
       "    </tr>\n",
       "    <tr>\n",
       "      <th>3</th>\n",
       "      <td>130321</td>\n",
       "      <td>100017</td>\n",
       "      <td>569617</td>\n",
       "      <td>199.2100</td>\n",
       "      <td>300.0</td>\n",
       "      <td>11-12-2018</td>\n",
       "      <td>0</td>\n",
       "    </tr>\n",
       "    <tr>\n",
       "      <th>4</th>\n",
       "      <td>130603</td>\n",
       "      <td>100017</td>\n",
       "      <td>591069</td>\n",
       "      <td>9.6204</td>\n",
       "      <td>12.0</td>\n",
       "      <td>07-06-2019</td>\n",
       "      <td>1</td>\n",
       "    </tr>\n",
       "  </tbody>\n",
       "</table>\n",
       "</div>"
      ],
      "text/plain": [
       "   LKP_SOLD_TO_CUST  LKP_ARTIKEL  ORDER_NUMMER  BIJDRAGE  NETTO_GEWICHT_KG  \\\n",
       "0            130603       100017        591194    9.6204              12.0   \n",
       "1            130575       100017        573012   70.0780              84.0   \n",
       "2            130603       100017        573038   18.6336              24.0   \n",
       "3            130321       100017        569617  199.2100             300.0   \n",
       "4            130603       100017        591069    9.6204              12.0   \n",
       "\n",
       "  FACTUUR_DATUM  R1_GEVAL  \n",
       "0    11-06-2019         1  \n",
       "1    12-12-2018         0  \n",
       "2    12-12-2018         0  \n",
       "3    11-12-2018         0  \n",
       "4    07-06-2019         1  "
      ]
     },
     "execution_count": 3,
     "metadata": {},
     "output_type": "execute_result"
    }
   ],
   "source": [
    "df = pd.read_csv('/Users/mac/Desktop/OrderPredictions/DMT_TT1_F_VERKOPEN.csv',error_bad_lines=False)\n",
    "df.head()"
   ]
  },
  {
   "cell_type": "code",
   "execution_count": 4,
   "metadata": {},
   "outputs": [
    {
     "data": {
      "text/plain": [
       "(199399, 7)"
      ]
     },
     "execution_count": 4,
     "metadata": {},
     "output_type": "execute_result"
    }
   ],
   "source": [
    "df.shape"
   ]
  },
  {
   "cell_type": "code",
   "execution_count": 5,
   "metadata": {},
   "outputs": [
    {
     "data": {
      "text/plain": [
       "31224"
      ]
     },
     "execution_count": 5,
     "metadata": {},
     "output_type": "execute_result"
    }
   ],
   "source": [
    "Orders = df.ORDER_NUMMER.unique()\n",
    "len(Orders)"
   ]
  },
  {
   "cell_type": "code",
   "execution_count": 6,
   "metadata": {},
   "outputs": [
    {
     "data": {
      "text/plain": [
       "(199399, 7)"
      ]
     },
     "execution_count": 6,
     "metadata": {},
     "output_type": "execute_result"
    }
   ],
   "source": [
    "df.shape"
   ]
  },
  {
   "cell_type": "markdown",
   "metadata": {},
   "source": [
    "LKP_SOLD_TO_CUST: Client name \\\n",
    "LKP_ARTIKEL: Article name \\\n",
    "NETTO_GEWICHT_KG: Net weight in Kilograms \\\n",
    "FACTUUR_DATUM: Date sold "
   ]
  },
  {
   "cell_type": "code",
   "execution_count": 7,
   "metadata": {},
   "outputs": [
    {
     "data": {
      "text/html": [
       "<div>\n",
       "<style scoped>\n",
       "    .dataframe tbody tr th:only-of-type {\n",
       "        vertical-align: middle;\n",
       "    }\n",
       "\n",
       "    .dataframe tbody tr th {\n",
       "        vertical-align: top;\n",
       "    }\n",
       "\n",
       "    .dataframe thead th {\n",
       "        text-align: right;\n",
       "    }\n",
       "</style>\n",
       "<table border=\"1\" class=\"dataframe\">\n",
       "  <thead>\n",
       "    <tr style=\"text-align: right;\">\n",
       "      <th></th>\n",
       "      <th>LKP_SOLD_TO_CUST</th>\n",
       "      <th>LKP_ARTIKEL</th>\n",
       "      <th>NETTO_GEWICHT_KG</th>\n",
       "      <th>FACTUUR_DATUM</th>\n",
       "    </tr>\n",
       "  </thead>\n",
       "  <tbody>\n",
       "    <tr>\n",
       "      <th>0</th>\n",
       "      <td>130603</td>\n",
       "      <td>100017</td>\n",
       "      <td>12.0</td>\n",
       "      <td>11-06-2019</td>\n",
       "    </tr>\n",
       "    <tr>\n",
       "      <th>1</th>\n",
       "      <td>130575</td>\n",
       "      <td>100017</td>\n",
       "      <td>84.0</td>\n",
       "      <td>12-12-2018</td>\n",
       "    </tr>\n",
       "    <tr>\n",
       "      <th>2</th>\n",
       "      <td>130603</td>\n",
       "      <td>100017</td>\n",
       "      <td>24.0</td>\n",
       "      <td>12-12-2018</td>\n",
       "    </tr>\n",
       "    <tr>\n",
       "      <th>3</th>\n",
       "      <td>130321</td>\n",
       "      <td>100017</td>\n",
       "      <td>300.0</td>\n",
       "      <td>11-12-2018</td>\n",
       "    </tr>\n",
       "    <tr>\n",
       "      <th>4</th>\n",
       "      <td>130603</td>\n",
       "      <td>100017</td>\n",
       "      <td>12.0</td>\n",
       "      <td>07-06-2019</td>\n",
       "    </tr>\n",
       "  </tbody>\n",
       "</table>\n",
       "</div>"
      ],
      "text/plain": [
       "   LKP_SOLD_TO_CUST  LKP_ARTIKEL  NETTO_GEWICHT_KG FACTUUR_DATUM\n",
       "0            130603       100017              12.0    11-06-2019\n",
       "1            130575       100017              84.0    12-12-2018\n",
       "2            130603       100017              24.0    12-12-2018\n",
       "3            130321       100017             300.0    11-12-2018\n",
       "4            130603       100017              12.0    07-06-2019"
      ]
     },
     "execution_count": 7,
     "metadata": {},
     "output_type": "execute_result"
    }
   ],
   "source": [
    "df = df[['LKP_SOLD_TO_CUST', 'LKP_ARTIKEL','NETTO_GEWICHT_KG','FACTUUR_DATUM']]\n",
    "df.head()"
   ]
  },
  {
   "cell_type": "markdown",
   "metadata": {},
   "source": [
    "## The day format is originally an Object: Day - Month - Year"
   ]
  },
  {
   "cell_type": "code",
   "execution_count": 8,
   "metadata": {},
   "outputs": [
    {
     "data": {
      "text/plain": [
       "LKP_SOLD_TO_CUST      int64\n",
       "LKP_ARTIKEL           int64\n",
       "NETTO_GEWICHT_KG    float64\n",
       "FACTUUR_DATUM        object\n",
       "dtype: object"
      ]
     },
     "execution_count": 8,
     "metadata": {},
     "output_type": "execute_result"
    }
   ],
   "source": [
    "df.dtypes"
   ]
  },
  {
   "cell_type": "code",
   "execution_count": 9,
   "metadata": {},
   "outputs": [],
   "source": [
    "df['FACTUUR_DATUM'] = pd.to_datetime(df.FACTUUR_DATUM)"
   ]
  },
  {
   "cell_type": "code",
   "execution_count": 10,
   "metadata": {},
   "outputs": [
    {
     "data": {
      "text/plain": [
       "LKP_SOLD_TO_CUST             int64\n",
       "LKP_ARTIKEL                  int64\n",
       "NETTO_GEWICHT_KG           float64\n",
       "FACTUUR_DATUM       datetime64[ns]\n",
       "dtype: object"
      ]
     },
     "execution_count": 10,
     "metadata": {},
     "output_type": "execute_result"
    }
   ],
   "source": [
    "df.dtypes"
   ]
  },
  {
   "cell_type": "markdown",
   "metadata": {},
   "source": [
    "## Converting day format to datetime Pandas: Year - Day - Month"
   ]
  },
  {
   "cell_type": "code",
   "execution_count": 11,
   "metadata": {},
   "outputs": [
    {
     "data": {
      "text/html": [
       "<div>\n",
       "<style scoped>\n",
       "    .dataframe tbody tr th:only-of-type {\n",
       "        vertical-align: middle;\n",
       "    }\n",
       "\n",
       "    .dataframe tbody tr th {\n",
       "        vertical-align: top;\n",
       "    }\n",
       "\n",
       "    .dataframe thead th {\n",
       "        text-align: right;\n",
       "    }\n",
       "</style>\n",
       "<table border=\"1\" class=\"dataframe\">\n",
       "  <thead>\n",
       "    <tr style=\"text-align: right;\">\n",
       "      <th></th>\n",
       "      <th>LKP_SOLD_TO_CUST</th>\n",
       "      <th>LKP_ARTIKEL</th>\n",
       "      <th>NETTO_GEWICHT_KG</th>\n",
       "      <th>FACTUUR_DATUM</th>\n",
       "    </tr>\n",
       "  </thead>\n",
       "  <tbody>\n",
       "    <tr>\n",
       "      <th>0</th>\n",
       "      <td>130603</td>\n",
       "      <td>100017</td>\n",
       "      <td>12.0</td>\n",
       "      <td>2019-11-06</td>\n",
       "    </tr>\n",
       "    <tr>\n",
       "      <th>1</th>\n",
       "      <td>130575</td>\n",
       "      <td>100017</td>\n",
       "      <td>84.0</td>\n",
       "      <td>2018-12-12</td>\n",
       "    </tr>\n",
       "    <tr>\n",
       "      <th>2</th>\n",
       "      <td>130603</td>\n",
       "      <td>100017</td>\n",
       "      <td>24.0</td>\n",
       "      <td>2018-12-12</td>\n",
       "    </tr>\n",
       "    <tr>\n",
       "      <th>3</th>\n",
       "      <td>130321</td>\n",
       "      <td>100017</td>\n",
       "      <td>300.0</td>\n",
       "      <td>2018-11-12</td>\n",
       "    </tr>\n",
       "    <tr>\n",
       "      <th>4</th>\n",
       "      <td>130603</td>\n",
       "      <td>100017</td>\n",
       "      <td>12.0</td>\n",
       "      <td>2019-07-06</td>\n",
       "    </tr>\n",
       "  </tbody>\n",
       "</table>\n",
       "</div>"
      ],
      "text/plain": [
       "   LKP_SOLD_TO_CUST  LKP_ARTIKEL  NETTO_GEWICHT_KG FACTUUR_DATUM\n",
       "0            130603       100017              12.0    2019-11-06\n",
       "1            130575       100017              84.0    2018-12-12\n",
       "2            130603       100017              24.0    2018-12-12\n",
       "3            130321       100017             300.0    2018-11-12\n",
       "4            130603       100017              12.0    2019-07-06"
      ]
     },
     "execution_count": 11,
     "metadata": {},
     "output_type": "execute_result"
    }
   ],
   "source": [
    "df.head()"
   ]
  },
  {
   "cell_type": "code",
   "execution_count": 12,
   "metadata": {},
   "outputs": [
    {
     "data": {
      "text/html": [
       "<div>\n",
       "<style scoped>\n",
       "    .dataframe tbody tr th:only-of-type {\n",
       "        vertical-align: middle;\n",
       "    }\n",
       "\n",
       "    .dataframe tbody tr th {\n",
       "        vertical-align: top;\n",
       "    }\n",
       "\n",
       "    .dataframe thead th {\n",
       "        text-align: right;\n",
       "    }\n",
       "</style>\n",
       "<table border=\"1\" class=\"dataframe\">\n",
       "  <thead>\n",
       "    <tr style=\"text-align: right;\">\n",
       "      <th></th>\n",
       "      <th>LKP_SOLD_TO_CUST</th>\n",
       "      <th>LKP_ARTIKEL</th>\n",
       "      <th>NETTO_GEWICHT_KG</th>\n",
       "      <th>FACTUUR_DATUM</th>\n",
       "    </tr>\n",
       "  </thead>\n",
       "  <tbody>\n",
       "    <tr>\n",
       "      <th>0</th>\n",
       "      <td>130603</td>\n",
       "      <td>100017</td>\n",
       "      <td>12.0</td>\n",
       "      <td>2019-11-06</td>\n",
       "    </tr>\n",
       "    <tr>\n",
       "      <th>1</th>\n",
       "      <td>130575</td>\n",
       "      <td>100017</td>\n",
       "      <td>84.0</td>\n",
       "      <td>2018-12-12</td>\n",
       "    </tr>\n",
       "    <tr>\n",
       "      <th>2</th>\n",
       "      <td>130603</td>\n",
       "      <td>100017</td>\n",
       "      <td>24.0</td>\n",
       "      <td>2018-12-12</td>\n",
       "    </tr>\n",
       "    <tr>\n",
       "      <th>3</th>\n",
       "      <td>130321</td>\n",
       "      <td>100017</td>\n",
       "      <td>300.0</td>\n",
       "      <td>2018-11-12</td>\n",
       "    </tr>\n",
       "    <tr>\n",
       "      <th>4</th>\n",
       "      <td>130603</td>\n",
       "      <td>100017</td>\n",
       "      <td>12.0</td>\n",
       "      <td>2019-07-06</td>\n",
       "    </tr>\n",
       "  </tbody>\n",
       "</table>\n",
       "</div>"
      ],
      "text/plain": [
       "   LKP_SOLD_TO_CUST  LKP_ARTIKEL  NETTO_GEWICHT_KG FACTUUR_DATUM\n",
       "0            130603       100017              12.0    2019-11-06\n",
       "1            130575       100017              84.0    2018-12-12\n",
       "2            130603       100017              24.0    2018-12-12\n",
       "3            130321       100017             300.0    2018-11-12\n",
       "4            130603       100017              12.0    2019-07-06"
      ]
     },
     "execution_count": 12,
     "metadata": {},
     "output_type": "execute_result"
    }
   ],
   "source": [
    "df = df.reset_index(drop=True)\n",
    "df.head()"
   ]
  },
  {
   "cell_type": "code",
   "execution_count": 13,
   "metadata": {},
   "outputs": [
    {
     "data": {
      "text/plain": [
       "(199399, 4)"
      ]
     },
     "execution_count": 13,
     "metadata": {},
     "output_type": "execute_result"
    }
   ],
   "source": [
    "df.shape"
   ]
  },
  {
   "cell_type": "code",
   "execution_count": 14,
   "metadata": {},
   "outputs": [],
   "source": [
    "Clients = df.LKP_SOLD_TO_CUST.unique()\n",
    "Products = df.LKP_ARTIKEL.unique()"
   ]
  },
  {
   "cell_type": "code",
   "execution_count": 15,
   "metadata": {},
   "outputs": [
    {
     "data": {
      "text/plain": [
       "735"
      ]
     },
     "execution_count": 15,
     "metadata": {},
     "output_type": "execute_result"
    }
   ],
   "source": [
    "len(Clients)"
   ]
  },
  {
   "cell_type": "code",
   "execution_count": 16,
   "metadata": {},
   "outputs": [
    {
     "data": {
      "text/plain": [
       "966"
      ]
     },
     "execution_count": 16,
     "metadata": {},
     "output_type": "execute_result"
    }
   ],
   "source": [
    "len(Products)"
   ]
  },
  {
   "cell_type": "code",
   "execution_count": 17,
   "metadata": {},
   "outputs": [
    {
     "data": {
      "text/plain": [
       "LKP_SOLD_TO_CUST                 130070\n",
       "LKP_ARTIKEL                      953979\n",
       "NETTO_GEWICHT_KG                5.3e+06\n",
       "FACTUUR_DATUM       2018-07-12 00:00:00\n",
       "Name: 17651, dtype: object"
      ]
     },
     "execution_count": 17,
     "metadata": {},
     "output_type": "execute_result"
    }
   ],
   "source": [
    "df.loc[df['NETTO_GEWICHT_KG'].idxmax()]"
   ]
  },
  {
   "cell_type": "code",
   "execution_count": 18,
   "metadata": {},
   "outputs": [],
   "source": [
    "df_FACTUUR_DATUM = df[\"FACTUUR_DATUM\"].tolist()\n",
    "df_NETTO_GEWICHT_KG = df[\"NETTO_GEWICHT_KG\"].tolist()"
   ]
  },
  {
   "cell_type": "code",
   "execution_count": 19,
   "metadata": {},
   "outputs": [],
   "source": [
    "dates = [pd.to_datetime(d) for d in df_FACTUUR_DATUM]"
   ]
  },
  {
   "cell_type": "code",
   "execution_count": 20,
   "metadata": {},
   "outputs": [
    {
     "name": "stderr",
     "output_type": "stream",
     "text": [
      "/Users/mac/anaconda3/lib/python3.7/site-packages/pandas/plotting/_converter.py:129: FutureWarning: Using an implicitly registered datetime converter for a matplotlib plotting method. The converter was registered by pandas on import. Future versions of pandas will require you to explicitly register matplotlib converters.\n",
      "\n",
      "To register the converters:\n",
      "\t>>> from pandas.plotting import register_matplotlib_converters\n",
      "\t>>> register_matplotlib_converters()\n",
      "  warnings.warn(msg, FutureWarning)\n"
     ]
    },
    {
     "data": {
      "text/plain": [
       "(0, 29000)"
      ]
     },
     "execution_count": 20,
     "metadata": {},
     "output_type": "execute_result"
    },
    {
     "data": {
      "image/png": "[encoded data removed]",
      "text/plain": [
       "<Figure size 1728x1440 with 1 Axes>"
      ]
     },
     "metadata": {
      "needs_background": "light"
     },
     "output_type": "display_data"
    }
   ],
   "source": [
    "plt.figure(figsize=(24,20))\n",
    "plt.scatter(dates, df_NETTO_GEWICHT_KG, s =6, c = 'red')\n",
    "plt.ylim(0,29000)"
   ]
  },
  {
   "cell_type": "code",
   "execution_count": 21,
   "metadata": {},
   "outputs": [
    {
     "data": {
      "text/html": [
       "<div>\n",
       "<style scoped>\n",
       "    .dataframe tbody tr th:only-of-type {\n",
       "        vertical-align: middle;\n",
       "    }\n",
       "\n",
       "    .dataframe tbody tr th {\n",
       "        vertical-align: top;\n",
       "    }\n",
       "\n",
       "    .dataframe thead th {\n",
       "        text-align: right;\n",
       "    }\n",
       "</style>\n",
       "<table border=\"1\" class=\"dataframe\">\n",
       "  <thead>\n",
       "    <tr style=\"text-align: right;\">\n",
       "      <th></th>\n",
       "      <th>LKP_SOLD_TO_CUST</th>\n",
       "      <th>LKP_ARTIKEL</th>\n",
       "      <th>NETTO_GEWICHT_KG</th>\n",
       "      <th>FACTUUR_DATUM</th>\n",
       "    </tr>\n",
       "  </thead>\n",
       "  <tbody>\n",
       "    <tr>\n",
       "      <th>0</th>\n",
       "      <td>130603</td>\n",
       "      <td>100017</td>\n",
       "      <td>12.0</td>\n",
       "      <td>2019-11-06</td>\n",
       "    </tr>\n",
       "    <tr>\n",
       "      <th>1</th>\n",
       "      <td>130575</td>\n",
       "      <td>100017</td>\n",
       "      <td>84.0</td>\n",
       "      <td>2018-12-12</td>\n",
       "    </tr>\n",
       "    <tr>\n",
       "      <th>2</th>\n",
       "      <td>130603</td>\n",
       "      <td>100017</td>\n",
       "      <td>24.0</td>\n",
       "      <td>2018-12-12</td>\n",
       "    </tr>\n",
       "    <tr>\n",
       "      <th>3</th>\n",
       "      <td>130321</td>\n",
       "      <td>100017</td>\n",
       "      <td>300.0</td>\n",
       "      <td>2018-11-12</td>\n",
       "    </tr>\n",
       "    <tr>\n",
       "      <th>4</th>\n",
       "      <td>130603</td>\n",
       "      <td>100017</td>\n",
       "      <td>12.0</td>\n",
       "      <td>2019-07-06</td>\n",
       "    </tr>\n",
       "  </tbody>\n",
       "</table>\n",
       "</div>"
      ],
      "text/plain": [
       "   LKP_SOLD_TO_CUST  LKP_ARTIKEL  NETTO_GEWICHT_KG FACTUUR_DATUM\n",
       "0            130603       100017              12.0    2019-11-06\n",
       "1            130575       100017              84.0    2018-12-12\n",
       "2            130603       100017              24.0    2018-12-12\n",
       "3            130321       100017             300.0    2018-11-12\n",
       "4            130603       100017              12.0    2019-07-06"
      ]
     },
     "execution_count": 21,
     "metadata": {},
     "output_type": "execute_result"
    }
   ],
   "source": [
    "df.head()"
   ]
  },
  {
   "cell_type": "code",
   "execution_count": 22,
   "metadata": {},
   "outputs": [
    {
     "data": {
      "text/plain": [
       "LKP_SOLD_TO_CUST    6\n",
       "LKP_ARTIKEL         6\n",
       "NETTO_GEWICHT_KG    6\n",
       "FACTUUR_DATUM       6\n",
       "dtype: int64"
      ]
     },
     "execution_count": 22,
     "metadata": {},
     "output_type": "execute_result"
    }
   ],
   "source": [
    "df[df['NETTO_GEWICHT_KG']>29000].count()"
   ]
  },
  {
   "cell_type": "code",
   "execution_count": 23,
   "metadata": {},
   "outputs": [
    {
     "data": {
      "text/html": [
       "<div>\n",
       "<style scoped>\n",
       "    .dataframe tbody tr th:only-of-type {\n",
       "        vertical-align: middle;\n",
       "    }\n",
       "\n",
       "    .dataframe tbody tr th {\n",
       "        vertical-align: top;\n",
       "    }\n",
       "\n",
       "    .dataframe thead th {\n",
       "        text-align: right;\n",
       "    }\n",
       "</style>\n",
       "<table border=\"1\" class=\"dataframe\">\n",
       "  <thead>\n",
       "    <tr style=\"text-align: right;\">\n",
       "      <th></th>\n",
       "      <th>LKP_SOLD_TO_CUST</th>\n",
       "      <th>LKP_ARTIKEL</th>\n",
       "      <th>NETTO_GEWICHT_KG</th>\n",
       "      <th>FACTUUR_DATUM</th>\n",
       "    </tr>\n",
       "  </thead>\n",
       "  <tbody>\n",
       "    <tr>\n",
       "      <th>17651</th>\n",
       "      <td>130070</td>\n",
       "      <td>953979</td>\n",
       "      <td>5300000.0</td>\n",
       "      <td>2018-07-12</td>\n",
       "    </tr>\n",
       "    <tr>\n",
       "      <th>59006</th>\n",
       "      <td>247644</td>\n",
       "      <td>100367</td>\n",
       "      <td>578000.0</td>\n",
       "      <td>2019-01-16</td>\n",
       "    </tr>\n",
       "    <tr>\n",
       "      <th>59022</th>\n",
       "      <td>247644</td>\n",
       "      <td>100367</td>\n",
       "      <td>578000.0</td>\n",
       "      <td>2019-10-01</td>\n",
       "    </tr>\n",
       "    <tr>\n",
       "      <th>59039</th>\n",
       "      <td>247644</td>\n",
       "      <td>100726</td>\n",
       "      <td>66000.0</td>\n",
       "      <td>2019-11-07</td>\n",
       "    </tr>\n",
       "    <tr>\n",
       "      <th>75991</th>\n",
       "      <td>131416</td>\n",
       "      <td>1122000</td>\n",
       "      <td>29808.0</td>\n",
       "      <td>2019-03-26</td>\n",
       "    </tr>\n",
       "    <tr>\n",
       "      <th>140785</th>\n",
       "      <td>130020</td>\n",
       "      <td>973371</td>\n",
       "      <td>220000.0</td>\n",
       "      <td>2019-03-21</td>\n",
       "    </tr>\n",
       "  </tbody>\n",
       "</table>\n",
       "</div>"
      ],
      "text/plain": [
       "        LKP_SOLD_TO_CUST  LKP_ARTIKEL  NETTO_GEWICHT_KG FACTUUR_DATUM\n",
       "17651             130070       953979         5300000.0    2018-07-12\n",
       "59006             247644       100367          578000.0    2019-01-16\n",
       "59022             247644       100367          578000.0    2019-10-01\n",
       "59039             247644       100726           66000.0    2019-11-07\n",
       "75991             131416      1122000           29808.0    2019-03-26\n",
       "140785            130020       973371          220000.0    2019-03-21"
      ]
     },
     "execution_count": 23,
     "metadata": {},
     "output_type": "execute_result"
    }
   ],
   "source": [
    "df[df['NETTO_GEWICHT_KG']>29000]"
   ]
  },
  {
   "cell_type": "code",
   "execution_count": 24,
   "metadata": {},
   "outputs": [],
   "source": [
    "df_high_Kg_values =  df['NETTO_GEWICHT_KG'] < 29000"
   ]
  },
  {
   "cell_type": "code",
   "execution_count": 25,
   "metadata": {},
   "outputs": [],
   "source": [
    "df = df[df_high_Kg_values]"
   ]
  },
  {
   "cell_type": "code",
   "execution_count": 26,
   "metadata": {},
   "outputs": [
    {
     "data": {
      "text/html": [
       "<div>\n",
       "<style scoped>\n",
       "    .dataframe tbody tr th:only-of-type {\n",
       "        vertical-align: middle;\n",
       "    }\n",
       "\n",
       "    .dataframe tbody tr th {\n",
       "        vertical-align: top;\n",
       "    }\n",
       "\n",
       "    .dataframe thead th {\n",
       "        text-align: right;\n",
       "    }\n",
       "</style>\n",
       "<table border=\"1\" class=\"dataframe\">\n",
       "  <thead>\n",
       "    <tr style=\"text-align: right;\">\n",
       "      <th></th>\n",
       "      <th>LKP_SOLD_TO_CUST</th>\n",
       "      <th>LKP_ARTIKEL</th>\n",
       "      <th>NETTO_GEWICHT_KG</th>\n",
       "      <th>FACTUUR_DATUM</th>\n",
       "    </tr>\n",
       "  </thead>\n",
       "  <tbody>\n",
       "    <tr>\n",
       "      <th>0</th>\n",
       "      <td>130603</td>\n",
       "      <td>100017</td>\n",
       "      <td>12.0</td>\n",
       "      <td>2019-11-06</td>\n",
       "    </tr>\n",
       "    <tr>\n",
       "      <th>1</th>\n",
       "      <td>130575</td>\n",
       "      <td>100017</td>\n",
       "      <td>84.0</td>\n",
       "      <td>2018-12-12</td>\n",
       "    </tr>\n",
       "    <tr>\n",
       "      <th>2</th>\n",
       "      <td>130603</td>\n",
       "      <td>100017</td>\n",
       "      <td>24.0</td>\n",
       "      <td>2018-12-12</td>\n",
       "    </tr>\n",
       "    <tr>\n",
       "      <th>3</th>\n",
       "      <td>130321</td>\n",
       "      <td>100017</td>\n",
       "      <td>300.0</td>\n",
       "      <td>2018-11-12</td>\n",
       "    </tr>\n",
       "    <tr>\n",
       "      <th>4</th>\n",
       "      <td>130603</td>\n",
       "      <td>100017</td>\n",
       "      <td>12.0</td>\n",
       "      <td>2019-07-06</td>\n",
       "    </tr>\n",
       "  </tbody>\n",
       "</table>\n",
       "</div>"
      ],
      "text/plain": [
       "   LKP_SOLD_TO_CUST  LKP_ARTIKEL  NETTO_GEWICHT_KG FACTUUR_DATUM\n",
       "0            130603       100017              12.0    2019-11-06\n",
       "1            130575       100017              84.0    2018-12-12\n",
       "2            130603       100017              24.0    2018-12-12\n",
       "3            130321       100017             300.0    2018-11-12\n",
       "4            130603       100017              12.0    2019-07-06"
      ]
     },
     "execution_count": 26,
     "metadata": {},
     "output_type": "execute_result"
    }
   ],
   "source": [
    "df.head()"
   ]
  },
  {
   "cell_type": "code",
   "execution_count": 27,
   "metadata": {},
   "outputs": [
    {
     "data": {
      "text/plain": [
       "LKP_SOLD_TO_CUST                 130323\n",
       "LKP_ARTIKEL                      755075\n",
       "NETTO_GEWICHT_KG                  26000\n",
       "FACTUUR_DATUM       2019-01-23 00:00:00\n",
       "Name: 95660, dtype: object"
      ]
     },
     "execution_count": 27,
     "metadata": {},
     "output_type": "execute_result"
    }
   ],
   "source": [
    "df.loc[df['NETTO_GEWICHT_KG'].idxmax()]"
   ]
  },
  {
   "cell_type": "code",
   "execution_count": 28,
   "metadata": {},
   "outputs": [
    {
     "data": {
      "text/html": [
       "<div>\n",
       "<style scoped>\n",
       "    .dataframe tbody tr th:only-of-type {\n",
       "        vertical-align: middle;\n",
       "    }\n",
       "\n",
       "    .dataframe tbody tr th {\n",
       "        vertical-align: top;\n",
       "    }\n",
       "\n",
       "    .dataframe thead th {\n",
       "        text-align: right;\n",
       "    }\n",
       "</style>\n",
       "<table border=\"1\" class=\"dataframe\">\n",
       "  <thead>\n",
       "    <tr style=\"text-align: right;\">\n",
       "      <th></th>\n",
       "      <th>LKP_SOLD_TO_CUST</th>\n",
       "      <th>LKP_ARTIKEL</th>\n",
       "      <th>NETTO_GEWICHT_KG</th>\n",
       "      <th>FACTUUR_DATUM</th>\n",
       "    </tr>\n",
       "  </thead>\n",
       "  <tbody>\n",
       "    <tr>\n",
       "      <th>0</th>\n",
       "      <td>130603</td>\n",
       "      <td>100017</td>\n",
       "      <td>12.0</td>\n",
       "      <td>2019-11-06</td>\n",
       "    </tr>\n",
       "    <tr>\n",
       "      <th>1</th>\n",
       "      <td>130575</td>\n",
       "      <td>100017</td>\n",
       "      <td>84.0</td>\n",
       "      <td>2018-12-12</td>\n",
       "    </tr>\n",
       "    <tr>\n",
       "      <th>2</th>\n",
       "      <td>130603</td>\n",
       "      <td>100017</td>\n",
       "      <td>24.0</td>\n",
       "      <td>2018-12-12</td>\n",
       "    </tr>\n",
       "    <tr>\n",
       "      <th>3</th>\n",
       "      <td>130321</td>\n",
       "      <td>100017</td>\n",
       "      <td>300.0</td>\n",
       "      <td>2018-11-12</td>\n",
       "    </tr>\n",
       "    <tr>\n",
       "      <th>4</th>\n",
       "      <td>130603</td>\n",
       "      <td>100017</td>\n",
       "      <td>12.0</td>\n",
       "      <td>2019-07-06</td>\n",
       "    </tr>\n",
       "  </tbody>\n",
       "</table>\n",
       "</div>"
      ],
      "text/plain": [
       "   LKP_SOLD_TO_CUST  LKP_ARTIKEL  NETTO_GEWICHT_KG FACTUUR_DATUM\n",
       "0            130603       100017              12.0    2019-11-06\n",
       "1            130575       100017              84.0    2018-12-12\n",
       "2            130603       100017              24.0    2018-12-12\n",
       "3            130321       100017             300.0    2018-11-12\n",
       "4            130603       100017              12.0    2019-07-06"
      ]
     },
     "execution_count": 28,
     "metadata": {},
     "output_type": "execute_result"
    }
   ],
   "source": [
    "df = df.reset_index(drop=True)\n",
    "df.head()"
   ]
  },
  {
   "cell_type": "code",
   "execution_count": 29,
   "metadata": {},
   "outputs": [
    {
     "data": {
      "text/plain": [
       "(199393, 4)"
      ]
     },
     "execution_count": 29,
     "metadata": {},
     "output_type": "execute_result"
    }
   ],
   "source": [
    "df.shape"
   ]
  },
  {
   "cell_type": "markdown",
   "metadata": {},
   "source": [
    "# Analysing the product 100017 from 2018-01-12 to 2019-12-11"
   ]
  },
  {
   "cell_type": "code",
   "execution_count": 30,
   "metadata": {},
   "outputs": [
    {
     "data": {
      "text/html": [
       "<div>\n",
       "<style scoped>\n",
       "    .dataframe tbody tr th:only-of-type {\n",
       "        vertical-align: middle;\n",
       "    }\n",
       "\n",
       "    .dataframe tbody tr th {\n",
       "        vertical-align: top;\n",
       "    }\n",
       "\n",
       "    .dataframe thead th {\n",
       "        text-align: right;\n",
       "    }\n",
       "</style>\n",
       "<table border=\"1\" class=\"dataframe\">\n",
       "  <thead>\n",
       "    <tr style=\"text-align: right;\">\n",
       "      <th></th>\n",
       "      <th>LKP_SOLD_TO_CUST</th>\n",
       "      <th>LKP_ARTIKEL</th>\n",
       "      <th>NETTO_GEWICHT_KG</th>\n",
       "      <th>FACTUUR_DATUM</th>\n",
       "    </tr>\n",
       "  </thead>\n",
       "  <tbody>\n",
       "    <tr>\n",
       "      <th>0</th>\n",
       "      <td>130603</td>\n",
       "      <td>100017</td>\n",
       "      <td>12.0</td>\n",
       "      <td>2019-11-06</td>\n",
       "    </tr>\n",
       "    <tr>\n",
       "      <th>1</th>\n",
       "      <td>130575</td>\n",
       "      <td>100017</td>\n",
       "      <td>84.0</td>\n",
       "      <td>2018-12-12</td>\n",
       "    </tr>\n",
       "    <tr>\n",
       "      <th>2</th>\n",
       "      <td>130603</td>\n",
       "      <td>100017</td>\n",
       "      <td>24.0</td>\n",
       "      <td>2018-12-12</td>\n",
       "    </tr>\n",
       "    <tr>\n",
       "      <th>3</th>\n",
       "      <td>130321</td>\n",
       "      <td>100017</td>\n",
       "      <td>300.0</td>\n",
       "      <td>2018-11-12</td>\n",
       "    </tr>\n",
       "    <tr>\n",
       "      <th>4</th>\n",
       "      <td>130603</td>\n",
       "      <td>100017</td>\n",
       "      <td>12.0</td>\n",
       "      <td>2019-07-06</td>\n",
       "    </tr>\n",
       "  </tbody>\n",
       "</table>\n",
       "</div>"
      ],
      "text/plain": [
       "   LKP_SOLD_TO_CUST  LKP_ARTIKEL  NETTO_GEWICHT_KG FACTUUR_DATUM\n",
       "0            130603       100017              12.0    2019-11-06\n",
       "1            130575       100017              84.0    2018-12-12\n",
       "2            130603       100017              24.0    2018-12-12\n",
       "3            130321       100017             300.0    2018-11-12\n",
       "4            130603       100017              12.0    2019-07-06"
      ]
     },
     "execution_count": 30,
     "metadata": {},
     "output_type": "execute_result"
    }
   ],
   "source": [
    "dfp_100017 = df.loc[df['LKP_ARTIKEL']==100017]\n",
    "dfp_100017.head()"
   ]
  },
  {
   "cell_type": "code",
   "execution_count": 31,
   "metadata": {},
   "outputs": [
    {
     "data": {
      "text/plain": [
       "(385, 4)"
      ]
     },
     "execution_count": 31,
     "metadata": {},
     "output_type": "execute_result"
    }
   ],
   "source": [
    "dfp_100017.shape"
   ]
  },
  {
   "cell_type": "markdown",
   "metadata": {},
   "source": [
    "The product 100017 was order 385 times during all the data period."
   ]
  },
  {
   "cell_type": "code",
   "execution_count": 32,
   "metadata": {},
   "outputs": [
    {
     "data": {
      "text/plain": [
       "Timestamp('2019-12-11 00:00:00')"
      ]
     },
     "execution_count": 32,
     "metadata": {},
     "output_type": "execute_result"
    }
   ],
   "source": [
    "dfp_100017.FACTUUR_DATUM.max()"
   ]
  },
  {
   "cell_type": "markdown",
   "metadata": {},
   "source": [
    "This Date Format is: Year - Month - day"
   ]
  },
  {
   "cell_type": "code",
   "execution_count": 33,
   "metadata": {},
   "outputs": [
    {
     "data": {
      "text/plain": [
       "Timestamp('2019-12-11 00:00:00')"
      ]
     },
     "execution_count": 33,
     "metadata": {},
     "output_type": "execute_result"
    }
   ],
   "source": [
    "dfp_100017['FACTUUR_DATUM'].max()"
   ]
  },
  {
   "cell_type": "code",
   "execution_count": 34,
   "metadata": {},
   "outputs": [
    {
     "data": {
      "text/plain": [
       "Timestamp('2018-01-12 00:00:00')"
      ]
     },
     "execution_count": 34,
     "metadata": {},
     "output_type": "execute_result"
    }
   ],
   "source": [
    "dfp_100017['FACTUUR_DATUM'].min()"
   ]
  },
  {
   "cell_type": "code",
   "execution_count": 35,
   "metadata": {},
   "outputs": [],
   "source": [
    "dfp_100017 = dfp_100017[['LKP_ARTIKEL','NETTO_GEWICHT_KG','FACTUUR_DATUM']]"
   ]
  },
  {
   "cell_type": "code",
   "execution_count": 36,
   "metadata": {},
   "outputs": [
    {
     "data": {
      "text/html": [
       "<div>\n",
       "<style scoped>\n",
       "    .dataframe tbody tr th:only-of-type {\n",
       "        vertical-align: middle;\n",
       "    }\n",
       "\n",
       "    .dataframe tbody tr th {\n",
       "        vertical-align: top;\n",
       "    }\n",
       "\n",
       "    .dataframe thead th {\n",
       "        text-align: right;\n",
       "    }\n",
       "</style>\n",
       "<table border=\"1\" class=\"dataframe\">\n",
       "  <thead>\n",
       "    <tr style=\"text-align: right;\">\n",
       "      <th></th>\n",
       "      <th>LKP_ARTIKEL</th>\n",
       "      <th>NETTO_GEWICHT_KG</th>\n",
       "      <th>FACTUUR_DATUM</th>\n",
       "    </tr>\n",
       "  </thead>\n",
       "  <tbody>\n",
       "    <tr>\n",
       "      <th>0</th>\n",
       "      <td>100017</td>\n",
       "      <td>12.0</td>\n",
       "      <td>2019-11-06</td>\n",
       "    </tr>\n",
       "    <tr>\n",
       "      <th>1</th>\n",
       "      <td>100017</td>\n",
       "      <td>84.0</td>\n",
       "      <td>2018-12-12</td>\n",
       "    </tr>\n",
       "    <tr>\n",
       "      <th>2</th>\n",
       "      <td>100017</td>\n",
       "      <td>24.0</td>\n",
       "      <td>2018-12-12</td>\n",
       "    </tr>\n",
       "    <tr>\n",
       "      <th>3</th>\n",
       "      <td>100017</td>\n",
       "      <td>300.0</td>\n",
       "      <td>2018-11-12</td>\n",
       "    </tr>\n",
       "    <tr>\n",
       "      <th>4</th>\n",
       "      <td>100017</td>\n",
       "      <td>12.0</td>\n",
       "      <td>2019-07-06</td>\n",
       "    </tr>\n",
       "  </tbody>\n",
       "</table>\n",
       "</div>"
      ],
      "text/plain": [
       "   LKP_ARTIKEL  NETTO_GEWICHT_KG FACTUUR_DATUM\n",
       "0       100017              12.0    2019-11-06\n",
       "1       100017              84.0    2018-12-12\n",
       "2       100017              24.0    2018-12-12\n",
       "3       100017             300.0    2018-11-12\n",
       "4       100017              12.0    2019-07-06"
      ]
     },
     "execution_count": 36,
     "metadata": {},
     "output_type": "execute_result"
    }
   ],
   "source": [
    "dfp_100017.head()"
   ]
  },
  {
   "cell_type": "code",
   "execution_count": 37,
   "metadata": {},
   "outputs": [
    {
     "data": {
      "text/plain": [
       "LKP_ARTIKEL                  int64\n",
       "NETTO_GEWICHT_KG           float64\n",
       "FACTUUR_DATUM       datetime64[ns]\n",
       "dtype: object"
      ]
     },
     "execution_count": 37,
     "metadata": {},
     "output_type": "execute_result"
    }
   ],
   "source": [
    "dfp_100017.dtypes"
   ]
  },
  {
   "cell_type": "code",
   "execution_count": 38,
   "metadata": {},
   "outputs": [
    {
     "data": {
      "text/html": [
       "<div>\n",
       "<style scoped>\n",
       "    .dataframe tbody tr th:only-of-type {\n",
       "        vertical-align: middle;\n",
       "    }\n",
       "\n",
       "    .dataframe tbody tr th {\n",
       "        vertical-align: top;\n",
       "    }\n",
       "\n",
       "    .dataframe thead th {\n",
       "        text-align: right;\n",
       "    }\n",
       "</style>\n",
       "<table border=\"1\" class=\"dataframe\">\n",
       "  <thead>\n",
       "    <tr style=\"text-align: right;\">\n",
       "      <th></th>\n",
       "      <th></th>\n",
       "      <th>NETTO_GEWICHT_KG</th>\n",
       "    </tr>\n",
       "    <tr>\n",
       "      <th>LKP_ARTIKEL</th>\n",
       "      <th>FACTUUR_DATUM</th>\n",
       "      <th></th>\n",
       "    </tr>\n",
       "  </thead>\n",
       "  <tbody>\n",
       "    <tr>\n",
       "      <th rowspan=\"5\" valign=\"top\">100017</th>\n",
       "      <th>2018-01-12</th>\n",
       "      <td>114.0</td>\n",
       "    </tr>\n",
       "    <tr>\n",
       "      <th>2018-03-12</th>\n",
       "      <td>24.0</td>\n",
       "    </tr>\n",
       "    <tr>\n",
       "      <th>2018-04-12</th>\n",
       "      <td>12.0</td>\n",
       "    </tr>\n",
       "    <tr>\n",
       "      <th>2018-05-12</th>\n",
       "      <td>36.0</td>\n",
       "    </tr>\n",
       "    <tr>\n",
       "      <th>2018-06-12</th>\n",
       "      <td>528.0</td>\n",
       "    </tr>\n",
       "  </tbody>\n",
       "</table>\n",
       "</div>"
      ],
      "text/plain": [
       "                           NETTO_GEWICHT_KG\n",
       "LKP_ARTIKEL FACTUUR_DATUM                  \n",
       "100017      2018-01-12                114.0\n",
       "            2018-03-12                 24.0\n",
       "            2018-04-12                 12.0\n",
       "            2018-05-12                 36.0\n",
       "            2018-06-12                528.0"
      ]
     },
     "execution_count": 38,
     "metadata": {},
     "output_type": "execute_result"
    }
   ],
   "source": [
    "dfp_100017 = dfp_100017.groupby(['LKP_ARTIKEL','FACTUUR_DATUM']).sum()\n",
    "dfp_100017.head()"
   ]
  },
  {
   "cell_type": "code",
   "execution_count": 39,
   "metadata": {},
   "outputs": [],
   "source": [
    "dfp_100017 = dfp_100017.reset_index(level=['FACTUUR_DATUM'])"
   ]
  },
  {
   "cell_type": "code",
   "execution_count": 40,
   "metadata": {},
   "outputs": [
    {
     "data": {
      "text/html": [
       "<div>\n",
       "<style scoped>\n",
       "    .dataframe tbody tr th:only-of-type {\n",
       "        vertical-align: middle;\n",
       "    }\n",
       "\n",
       "    .dataframe tbody tr th {\n",
       "        vertical-align: top;\n",
       "    }\n",
       "\n",
       "    .dataframe thead th {\n",
       "        text-align: right;\n",
       "    }\n",
       "</style>\n",
       "<table border=\"1\" class=\"dataframe\">\n",
       "  <thead>\n",
       "    <tr style=\"text-align: right;\">\n",
       "      <th></th>\n",
       "      <th>FACTUUR_DATUM</th>\n",
       "      <th>NETTO_GEWICHT_KG</th>\n",
       "    </tr>\n",
       "    <tr>\n",
       "      <th>LKP_ARTIKEL</th>\n",
       "      <th></th>\n",
       "      <th></th>\n",
       "    </tr>\n",
       "  </thead>\n",
       "  <tbody>\n",
       "    <tr>\n",
       "      <th>100017</th>\n",
       "      <td>2018-01-12</td>\n",
       "      <td>114.0</td>\n",
       "    </tr>\n",
       "    <tr>\n",
       "      <th>100017</th>\n",
       "      <td>2018-03-12</td>\n",
       "      <td>24.0</td>\n",
       "    </tr>\n",
       "    <tr>\n",
       "      <th>100017</th>\n",
       "      <td>2018-04-12</td>\n",
       "      <td>12.0</td>\n",
       "    </tr>\n",
       "    <tr>\n",
       "      <th>100017</th>\n",
       "      <td>2018-05-12</td>\n",
       "      <td>36.0</td>\n",
       "    </tr>\n",
       "    <tr>\n",
       "      <th>100017</th>\n",
       "      <td>2018-06-12</td>\n",
       "      <td>528.0</td>\n",
       "    </tr>\n",
       "  </tbody>\n",
       "</table>\n",
       "</div>"
      ],
      "text/plain": [
       "            FACTUUR_DATUM  NETTO_GEWICHT_KG\n",
       "LKP_ARTIKEL                                \n",
       "100017         2018-01-12             114.0\n",
       "100017         2018-03-12              24.0\n",
       "100017         2018-04-12              12.0\n",
       "100017         2018-05-12              36.0\n",
       "100017         2018-06-12             528.0"
      ]
     },
     "execution_count": 40,
     "metadata": {},
     "output_type": "execute_result"
    }
   ],
   "source": [
    "dfp_100017.head()"
   ]
  },
  {
   "cell_type": "code",
   "execution_count": 41,
   "metadata": {},
   "outputs": [],
   "source": [
    "dfp_100017 = dfp_100017.sort_values(by='FACTUUR_DATUM') "
   ]
  },
  {
   "cell_type": "code",
   "execution_count": 42,
   "metadata": {},
   "outputs": [
    {
     "data": {
      "text/html": [
       "<div>\n",
       "<style scoped>\n",
       "    .dataframe tbody tr th:only-of-type {\n",
       "        vertical-align: middle;\n",
       "    }\n",
       "\n",
       "    .dataframe tbody tr th {\n",
       "        vertical-align: top;\n",
       "    }\n",
       "\n",
       "    .dataframe thead th {\n",
       "        text-align: right;\n",
       "    }\n",
       "</style>\n",
       "<table border=\"1\" class=\"dataframe\">\n",
       "  <thead>\n",
       "    <tr style=\"text-align: right;\">\n",
       "      <th></th>\n",
       "      <th>FACTUUR_DATUM</th>\n",
       "      <th>NETTO_GEWICHT_KG</th>\n",
       "    </tr>\n",
       "    <tr>\n",
       "      <th>LKP_ARTIKEL</th>\n",
       "      <th></th>\n",
       "      <th></th>\n",
       "    </tr>\n",
       "  </thead>\n",
       "  <tbody>\n",
       "    <tr>\n",
       "      <th>100017</th>\n",
       "      <td>2018-01-12</td>\n",
       "      <td>114.0</td>\n",
       "    </tr>\n",
       "    <tr>\n",
       "      <th>100017</th>\n",
       "      <td>2018-03-12</td>\n",
       "      <td>24.0</td>\n",
       "    </tr>\n",
       "    <tr>\n",
       "      <th>100017</th>\n",
       "      <td>2018-04-12</td>\n",
       "      <td>12.0</td>\n",
       "    </tr>\n",
       "    <tr>\n",
       "      <th>100017</th>\n",
       "      <td>2018-05-12</td>\n",
       "      <td>36.0</td>\n",
       "    </tr>\n",
       "    <tr>\n",
       "      <th>100017</th>\n",
       "      <td>2018-06-12</td>\n",
       "      <td>528.0</td>\n",
       "    </tr>\n",
       "  </tbody>\n",
       "</table>\n",
       "</div>"
      ],
      "text/plain": [
       "            FACTUUR_DATUM  NETTO_GEWICHT_KG\n",
       "LKP_ARTIKEL                                \n",
       "100017         2018-01-12             114.0\n",
       "100017         2018-03-12              24.0\n",
       "100017         2018-04-12              12.0\n",
       "100017         2018-05-12              36.0\n",
       "100017         2018-06-12             528.0"
      ]
     },
     "execution_count": 42,
     "metadata": {},
     "output_type": "execute_result"
    }
   ],
   "source": [
    "dfp_100017.head()"
   ]
  },
  {
   "cell_type": "code",
   "execution_count": 49,
   "metadata": {},
   "outputs": [
    {
     "data": {
      "text/plain": [
       "(0, 900)"
      ]
     },
     "execution_count": 49,
     "metadata": {},
     "output_type": "execute_result"
    },
    {
     "data": {
      "image/png": "[encoded data removed]",
      "text/plain": [
       "<Figure size 1728x1440 with 1 Axes>"
      ]
     },
     "metadata": {
      "needs_background": "light"
     },
     "output_type": "display_data"
    }
   ],
   "source": [
    "dfp_100017_FACTUUR_DATUM = dfp_100017[\"FACTUUR_DATUM\"].tolist()\n",
    "dfp_100017_NETTO_GEWICHT_KG = dfp_100017[\"NETTO_GEWICHT_KG\"].tolist()\n",
    "dfp_100017_dates = [pd.to_datetime(d) for d in dfp_100017_FACTUUR_DATUM]\n",
    "plt.figure(figsize=(24,20))\n",
    "plt.scatter(dfp_100017_dates, dfp_100017_NETTO_GEWICHT_KG, s =6, c = 'red')\n",
    "plt.ylim(0,900)"
   ]
  },
  {
   "cell_type": "code",
   "execution_count": 44,
   "metadata": {},
   "outputs": [
    {
     "data": {
      "text/plain": [
       "FACTUUR_DATUM       datetime64[ns]\n",
       "NETTO_GEWICHT_KG           float64\n",
       "dtype: object"
      ]
     },
     "execution_count": 44,
     "metadata": {},
     "output_type": "execute_result"
    }
   ],
   "source": [
    "dfp_100017.dtypes"
   ]
  },
  {
   "cell_type": "code",
   "execution_count": 47,
   "metadata": {},
   "outputs": [],
   "source": [
    "dfp_100017.to_csv(\"/Users/mac/Desktop/OrderPredictions/dfp_100017_file.csv\")"
   ]
  },
  {
   "cell_type": "code",
   "execution_count": 48,
   "metadata": {},
   "outputs": [
    {
     "data": {
      "text/plain": [
       "870.0"
      ]
     },
     "execution_count": 48,
     "metadata": {},
     "output_type": "execute_result"
    }
   ],
   "source": [
    "dfp_100017['NETTO_GEWICHT_KG'].max()"
   ]
  },
  {
   "cell_type": "code",
   "execution_count": null,
   "metadata": {},
   "outputs": [],
   "source": []
  }
 ],
 "metadata": {
  "kernelspec": {
   "display_name": "Python 3",
   "language": "python",
   "name": "python3"
  },
  "language_info": {
   "codemirror_mode": {
    "name": "ipython",
    "version": 3
   },
   "file_extension": ".py",
   "mimetype": "text/x-python",
   "name": "python",
   "nbconvert_exporter": "python",
   "pygments_lexer": "ipython3",
   "version": "3.7.3"
  }
 },
 "nbformat": 4,
 "nbformat_minor": 2
}
